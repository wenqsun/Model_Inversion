{
 "cells": [
  {
   "cell_type": "code",
   "execution_count": 1,
   "metadata": {},
   "outputs": [
    {
     "name": "stderr",
     "output_type": "stream",
     "text": [
      "/home/wsunap/anaconda3/envs/FL/lib/python3.10/site-packages/tqdm/auto.py:22: TqdmWarning: IProgress not found. Please update jupyter and ipywidgets. See https://ipywidgets.readthedocs.io/en/stable/user_install.html\n",
      "  from .autonotebook import tqdm as notebook_tqdm\n"
     ]
    }
   ],
   "source": [
    "import os\n",
    "import time\n",
    "# import utils\n",
    "import random\n",
    "from torch.autograd import Variable\n",
    "import numpy as np\n",
    "import argparse\n",
    "import torch\n",
    "import torch.nn as nn\n",
    "import torch.optim as optim\n",
    "import torch.nn.functional as F\n",
    "from torch.utils.data import Dataset, DataLoader\n",
    "import torchvision\n",
    "# from utils import *\n",
    "from torch.nn import BCELoss\n",
    "from torch.autograd import grad\n",
    "import torchvision.utils as tvls\n",
    "import torchvision.datasets as dsets\n",
    "import torchvision.transforms as transforms\n",
    "import matplotlib.pyplot as plt\n",
    "import torchvision.datasets as datasets"
   ]
  },
  {
   "cell_type": "code",
   "execution_count": 7,
   "metadata": {},
   "outputs": [
    {
     "name": "stdout",
     "output_type": "stream",
     "text": [
      "Using downloaded and verified file: ../dataset/train_32x32.mat\n",
      "Real images: torch.Size([10000, 3, 299, 299])\n"
     ]
    }
   ],
   "source": [
    "def generate_realdata():\n",
    "    batch_size = 10000\n",
    "    # Load CIFAR-10 dataset\n",
    "    transform=transforms.Compose([\n",
    "            transforms.Resize((299, 299)),\n",
    "            transforms.ToTensor(),\n",
    "            transforms.Normalize((0.4376821, 0.4437697, 0.47280442), (0.19803012, 0.20101562, 0.19703614))\n",
    "            ])\n",
    "    \n",
    "    dataset = datasets.SVHN(root=\"../dataset\", split='train', transform=transform, download=True)\n",
    "    dataloader = DataLoader(dataset, batch_size=batch_size, shuffle=True)\n",
    "    real_images = iter(dataloader).next()[0]\n",
    "\n",
    "    print(f\"Real images: {real_images.shape}\")\n",
    "\n",
    "    return real_images\n",
    "\n",
    "torch.save(generate_realdata(), 'result/real_images_299*299.pth')"
   ]
  },
  {
   "cell_type": "code",
   "execution_count": 5,
   "metadata": {},
   "outputs": [
    {
     "name": "stdout",
     "output_type": "stream",
     "text": [
      "Using downloaded and verified file: ../dataset/train_32x32.mat\n",
      "Real images: torch.Size([10000, 3, 32, 32])\n"
     ]
    }
   ],
   "source": [
    "def generate_realdata():\n",
    "    batch_size = 10000\n",
    "    # Load CIFAR-10 dataset\n",
    "    transform=transforms.Compose([\n",
    "            transforms.ToTensor(),\n",
    "            transforms.Normalize((0.4376821, 0.4437697, 0.47280442), (0.19803012, 0.20101562, 0.19703614))\n",
    "            ])\n",
    "    \n",
    "    dataset = datasets.SVHN(root=\"../dataset\", split='train', transform=transform, download=True)\n",
    "    dataloader = DataLoader(dataset, batch_size=batch_size, shuffle=True)\n",
    "    real_images = iter(dataloader).next()[0]\n",
    "\n",
    "    print(f\"Real images: {real_images.shape}\")\n",
    "\n",
    "    return real_images\n",
    "\n",
    "torch.save(generate_realdata(), 'result/real_images_32*32.pth')"
   ]
  },
  {
   "cell_type": "code",
   "execution_count": null,
   "metadata": {},
   "outputs": [],
   "source": [
    "! nvidia-smi"
   ]
  },
  {
   "cell_type": "code",
   "execution_count": null,
   "metadata": {},
   "outputs": [],
   "source": []
  }
 ],
 "metadata": {
  "kernelspec": {
   "display_name": "Python 3.10.4 ('FL': conda)",
   "language": "python",
   "name": "python3"
  },
  "language_info": {
   "codemirror_mode": {
    "name": "ipython",
    "version": 3
   },
   "file_extension": ".py",
   "mimetype": "text/x-python",
   "name": "python",
   "nbconvert_exporter": "python",
   "pygments_lexer": "ipython3",
   "version": "3.10.4"
  },
  "orig_nbformat": 4,
  "vscode": {
   "interpreter": {
    "hash": "e58bea275dc02c3ddf05ce293d9a76ef84dc8b4c7eec055dbd0a07f52cb04438"
   }
  }
 },
 "nbformat": 4,
 "nbformat_minor": 2
}
