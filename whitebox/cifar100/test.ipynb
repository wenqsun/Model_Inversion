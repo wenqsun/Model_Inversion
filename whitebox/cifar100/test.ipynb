{
 "cells": [
  {
   "cell_type": "code",
   "execution_count": 1,
   "metadata": {},
   "outputs": [
    {
     "name": "stderr",
     "output_type": "stream",
     "text": [
      "/home/wsunap/anaconda3/envs/FL/lib/python3.10/site-packages/tqdm/auto.py:22: TqdmWarning: IProgress not found. Please update jupyter and ipywidgets. See https://ipywidgets.readthedocs.io/en/stable/user_install.html\n",
      "  from .autonotebook import tqdm as notebook_tqdm\n"
     ]
    },
    {
     "name": "stdout",
     "output_type": "stream",
     "text": [
      "tensor([[-0.0441, -0.1549,  0.0817,  ..., -0.1083,  0.2229,  0.0377],\n",
      "        [-0.0902,  0.0698, -0.0999,  ...,  0.0111, -0.1034, -0.1821],\n",
      "        [-0.1330,  0.0343, -0.1336,  ...,  0.2478, -0.1128, -0.1434],\n",
      "        ...,\n",
      "        [ 0.2546,  0.2223,  0.0720,  ..., -0.0847, -0.0765, -0.0262],\n",
      "        [-0.0255,  0.0041, -0.0139,  ...,  0.0579, -0.0555,  0.0889],\n",
      "        [ 0.0570,  0.0248,  0.1747,  ...,  0.3386, -0.0993,  0.1532]],\n",
      "       device='cuda:0')\n",
      "torch.cuda.FloatTensor\n"
     ]
    }
   ],
   "source": [
    "import torch\n",
    "FedPAQ_model_8 = torch.load('result_model/FedPAQ/Jiawei_FedPAQ_65.18(quant_8)_epoch_1000_dir_0.5_model_test.pth')\n",
    "FedPAQ_model_2 = torch.load('result_model/FedPAQ/CIFAR100_FedPAQ_53.89_quant_2_epoch_1002_dir_0.5_model_test.pth')\n",
    "FedAvg_model = torch.load('result_model/FedAvg/Jiawei_FedAvg_66.95_epoch_1001_dir_0.5_model_test.pth')\n",
    "\n",
    "params1 = FedPAQ_model_8.state_dict()\n",
    "params2 = FedPAQ_model_2.state_dict()\n",
    "params3 = FedAvg_model.state_dict()\n",
    "# print the linear layer weight value for one layer\n",
    "print(params1['linear.weight'])\n",
    "print(params2['linear.weight'][0][0].type())\n"
   ]
  },
  {
   "cell_type": "code",
   "execution_count": 2,
   "metadata": {},
   "outputs": [],
   "source": [
    "import os\n",
    "import time\n",
    "# import utils\n",
    "import random\n",
    "from torch.autograd import Variable\n",
    "import numpy as np\n",
    "import argparse\n",
    "import torch\n",
    "import torch.nn as nn\n",
    "import torch.optim as optim\n",
    "import torch.nn.functional as F\n",
    "from torch.utils.data import Dataset, DataLoader\n",
    "import torchvision\n",
    "# from utils import *\n",
    "from torch.nn import BCELoss\n",
    "from torch.autograd import grad\n",
    "import torchvision.utils as tvls\n",
    "import torchvision.datasets as dsets\n",
    "import torchvision.transforms as transforms\n",
    "import matplotlib.pyplot as plt\n",
    "import torchvision.datasets as datasets\n",
    "from metric import compute_PSNR"
   ]
  },
  {
   "cell_type": "code",
   "execution_count": 3,
   "metadata": {},
   "outputs": [
    {
     "name": "stdout",
     "output_type": "stream",
     "text": [
      "torch.Size([1, 200])\n",
      "torch.Size([1, 3, 32, 32])\n"
     ]
    }
   ],
   "source": [
    "class InverseCIFAR100Net(nn.Module):\n",
    "    def __init__(self, out_features=3, z_dim=100, num_class=100, dim=128*4*4):\n",
    "        super(InverseCIFAR100Net, self).__init__()\n",
    "        self.fc1 = nn.Linear(z_dim + num_class, 1024)\n",
    "        self.fc2 = nn.Linear(1024, dim)\n",
    "        self.deconv = nn.Sequential(\n",
    "            nn.ConvTranspose2d(128, 128, kernel_size=5),\n",
    "            nn.ReLU(inplace=True),\n",
    "            nn.ConvTranspose2d(128, 64, kernel_size=5),\n",
    "            nn.ReLU(inplace=True),\n",
    "            nn.ConvTranspose2d(64, 64, kernel_size=5),\n",
    "            nn.ReLU(inplace=True),\n",
    "            nn.ConvTranspose2d(64, 32, kernel_size=5),\n",
    "            nn.ReLU(inplace=True),\n",
    "            nn.ConvTranspose2d(32, 32, kernel_size=5),\n",
    "            nn.ReLU(inplace=True),\n",
    "            nn.ConvTranspose2d(32, out_features, kernel_size=5)\n",
    "        )\n",
    "\n",
    "    def forward(self, x):\n",
    "        x = F.relu(self.fc1(x))\n",
    "        x = F.relu(self.fc2(x))\n",
    "        x = x.view(-1, 128, 4, 4)\n",
    "        x = F.interpolate(x, scale_factor=2, mode='nearest')\n",
    "        x = self.deconv(x)\n",
    "        return x\n",
    "\n",
    "x = torch.randn(1, 200)\n",
    "print(x.shape)\n",
    "model = InverseCIFAR100Net()\n",
    "y = model(x)\n",
    "print(y.shape)"
   ]
  },
  {
   "cell_type": "code",
   "execution_count": 4,
   "metadata": {},
   "outputs": [
    {
     "name": "stdout",
     "output_type": "stream",
     "text": [
      "Files already downloaded and verified\n",
      "Real images: torch.Size([10000, 3, 32, 32])\n",
      "tensor([[[-1.8903, -1.8903, -1.8903,  ..., -1.8903, -1.8903, -1.8903],\n",
      "         [-1.8903, -1.8903, -1.8903,  ..., -0.1506, -1.8903, -1.8903],\n",
      "         [-1.8903, -1.8903, -1.8903,  ..., -0.4284, -1.8903, -1.8903],\n",
      "         ...,\n",
      "         [-1.8903, -1.8903, -1.8903,  ..., -0.6331, -0.6477, -1.8903],\n",
      "         [-1.8903, -1.8903, -1.8903,  ..., -1.8903, -1.8903, -1.8903],\n",
      "         [-1.8903, -1.8903, -1.8903,  ..., -1.8903, -1.8903, -1.8903]],\n",
      "\n",
      "        [[-1.8905, -1.8905, -1.8905,  ..., -1.8905, -1.8905, -1.8905],\n",
      "         [-1.8905, -1.8905, -1.8905,  ..., -0.0620, -1.8905, -1.8905],\n",
      "         [-1.8905, -1.8905, -1.8905,  ..., -0.3363, -1.8905, -1.8905],\n",
      "         ...,\n",
      "         [-1.8905, -1.8905, -1.8905,  ..., -0.4887, -0.5191, -1.8905],\n",
      "         [-1.8905, -1.8905, -1.8905,  ..., -1.8905, -1.8905, -1.8905],\n",
      "         [-1.8905, -1.8905, -1.8905,  ..., -1.8905, -1.8905, -1.8905]],\n",
      "\n",
      "        [[-1.5912, -1.5912, -1.5912,  ..., -1.5912, -1.5912, -1.5912],\n",
      "         [-1.5912, -1.5912, -1.5912,  ...,  0.4326, -1.5912, -1.5912],\n",
      "         [-1.5912, -1.5912, -1.5912,  ...,  0.1071, -1.5912, -1.5912],\n",
      "         ...,\n",
      "         [-1.5912, -1.5912, -1.5912,  ..., -0.0203, -0.0344, -1.5912],\n",
      "         [-1.5912, -1.5912, -1.5912,  ..., -1.5912, -1.5912, -1.5912],\n",
      "         [-1.5912, -1.5912, -1.5912,  ..., -1.5912, -1.5912, -1.5912]]])\n",
      "torch.Size([10000, 3, 32, 32])\n",
      "tensor([[[-1.8903, -1.8903, -1.8903,  ..., -1.8903, -1.8903, -1.8903],\n",
      "         [-1.8903, -1.8903, -1.8903,  ..., -0.1506, -1.8903, -1.8903],\n",
      "         [-1.8903, -1.8903, -1.8903,  ..., -0.4284, -1.8903, -1.8903],\n",
      "         ...,\n",
      "         [-1.8903, -1.8903, -1.8903,  ..., -0.6331, -0.6477, -1.8903],\n",
      "         [-1.8903, -1.8903, -1.8903,  ..., -1.8903, -1.8903, -1.8903],\n",
      "         [-1.8903, -1.8903, -1.8903,  ..., -1.8903, -1.8903, -1.8903]],\n",
      "\n",
      "        [[-1.8905, -1.8905, -1.8905,  ..., -1.8905, -1.8905, -1.8905],\n",
      "         [-1.8905, -1.8905, -1.8905,  ..., -0.0620, -1.8905, -1.8905],\n",
      "         [-1.8905, -1.8905, -1.8905,  ..., -0.3363, -1.8905, -1.8905],\n",
      "         ...,\n",
      "         [-1.8905, -1.8905, -1.8905,  ..., -0.4887, -0.5191, -1.8905],\n",
      "         [-1.8905, -1.8905, -1.8905,  ..., -1.8905, -1.8905, -1.8905],\n",
      "         [-1.8905, -1.8905, -1.8905,  ..., -1.8905, -1.8905, -1.8905]],\n",
      "\n",
      "        [[-1.5912, -1.5912, -1.5912,  ..., -1.5912, -1.5912, -1.5912],\n",
      "         [-1.5912, -1.5912, -1.5912,  ...,  0.4326, -1.5912, -1.5912],\n",
      "         [-1.5912, -1.5912, -1.5912,  ...,  0.1071, -1.5912, -1.5912],\n",
      "         ...,\n",
      "         [-1.5912, -1.5912, -1.5912,  ..., -0.0203, -0.0344, -1.5912],\n",
      "         [-1.5912, -1.5912, -1.5912,  ..., -1.5912, -1.5912, -1.5912],\n",
      "         [-1.5912, -1.5912, -1.5912,  ..., -1.5912, -1.5912, -1.5912]]])\n",
      "tensor([[[ 3.1978e-08,  3.1978e-08,  3.1978e-08,  ...,  3.1978e-08,\n",
      "           3.1978e-08,  3.1978e-08],\n",
      "         [ 3.1978e-08,  3.1978e-08,  3.1978e-08,  ...,  4.6667e-01,\n",
      "           3.1978e-08,  3.1978e-08],\n",
      "         [ 3.1978e-08,  3.1978e-08,  3.1978e-08,  ...,  3.9216e-01,\n",
      "           3.1978e-08,  3.1978e-08],\n",
      "         ...,\n",
      "         [ 3.1978e-08,  3.1978e-08,  3.1978e-08,  ...,  3.3725e-01,\n",
      "           3.3333e-01,  3.1978e-08],\n",
      "         [ 3.1978e-08,  3.1978e-08,  3.1978e-08,  ...,  3.1978e-08,\n",
      "           3.1978e-08,  3.1978e-08],\n",
      "         [ 3.1978e-08,  3.1978e-08,  3.1978e-08,  ...,  3.1978e-08,\n",
      "           3.1978e-08,  3.1978e-08]],\n",
      "\n",
      "        [[ 0.0000e+00,  0.0000e+00,  0.0000e+00,  ...,  0.0000e+00,\n",
      "           0.0000e+00,  0.0000e+00],\n",
      "         [ 0.0000e+00,  0.0000e+00,  0.0000e+00,  ...,  4.7059e-01,\n",
      "           0.0000e+00,  0.0000e+00],\n",
      "         [ 0.0000e+00,  0.0000e+00,  0.0000e+00,  ...,  4.0000e-01,\n",
      "           0.0000e+00,  0.0000e+00],\n",
      "         ...,\n",
      "         [ 0.0000e+00,  0.0000e+00,  0.0000e+00,  ...,  3.6078e-01,\n",
      "           3.5294e-01,  0.0000e+00],\n",
      "         [ 0.0000e+00,  0.0000e+00,  0.0000e+00,  ...,  0.0000e+00,\n",
      "           0.0000e+00,  0.0000e+00],\n",
      "         [ 0.0000e+00,  0.0000e+00,  0.0000e+00,  ...,  0.0000e+00,\n",
      "           0.0000e+00,  0.0000e+00]],\n",
      "\n",
      "        [[-3.3032e-08, -3.3032e-08, -3.3032e-08,  ..., -3.3032e-08,\n",
      "          -3.3032e-08, -3.3032e-08],\n",
      "         [-3.3032e-08, -3.3032e-08, -3.3032e-08,  ...,  5.6078e-01,\n",
      "          -3.3032e-08, -3.3032e-08],\n",
      "         [-3.3032e-08, -3.3032e-08, -3.3032e-08,  ...,  4.7059e-01,\n",
      "          -3.3032e-08, -3.3032e-08],\n",
      "         ...,\n",
      "         [-3.3032e-08, -3.3032e-08, -3.3032e-08,  ...,  4.3529e-01,\n",
      "           4.3137e-01, -3.3032e-08],\n",
      "         [-3.3032e-08, -3.3032e-08, -3.3032e-08,  ..., -3.3032e-08,\n",
      "          -3.3032e-08, -3.3032e-08],\n",
      "         [-3.3032e-08, -3.3032e-08, -3.3032e-08,  ..., -3.3032e-08,\n",
      "          -3.3032e-08, -3.3032e-08]]])\n",
      "torch.Size([1000, 3, 32, 32])\n",
      "tensor([[[ 0.0318,  0.0090, -0.0274,  ...,  0.0232,  0.0594,  0.0531],\n",
      "         [ 0.0223, -0.0104, -0.0557,  ..., -0.0199,  0.0312,  0.0688],\n",
      "         [ 0.0178, -0.0088, -0.0117,  ...,  0.0022,  0.0239,  0.0440],\n",
      "         ...,\n",
      "         [ 0.0373,  0.0270,  0.0673,  ...,  0.0282,  0.0036,  0.0193],\n",
      "         [ 0.0414,  0.0348,  0.0542,  ..., -0.0042, -0.0019,  0.0366],\n",
      "         [ 0.0514,  0.0577,  0.0474,  ...,  0.0187,  0.0268,  0.0225]],\n",
      "\n",
      "        [[-0.0681, -0.0800, -0.0845,  ..., -0.0445, -0.0484, -0.0575],\n",
      "         [-0.0881, -0.1316, -0.1272,  ..., -0.0400, -0.0593, -0.0625],\n",
      "         [-0.1089, -0.1385, -0.1346,  ..., -0.0775, -0.0905, -0.0834],\n",
      "         ...,\n",
      "         [-0.0720, -0.0357, -0.0163,  ..., -0.1263, -0.1297, -0.0915],\n",
      "         [-0.0547, -0.0374, -0.0225,  ..., -0.0999, -0.0937, -0.0753],\n",
      "         [-0.0461, -0.0362, -0.0039,  ..., -0.0394, -0.0730, -0.0687]],\n",
      "\n",
      "        [[ 0.0561,  0.0539,  0.0390,  ...,  0.0610,  0.0746,  0.0634],\n",
      "         [ 0.0657,  0.0499,  0.0405,  ...,  0.0590,  0.0611,  0.0648],\n",
      "         [ 0.0682,  0.0733,  0.0426,  ...,  0.0939,  0.1006,  0.0880],\n",
      "         ...,\n",
      "         [ 0.0513,  0.0834,  0.0807,  ...,  0.0472,  0.0672,  0.0809],\n",
      "         [ 0.0491,  0.0493,  0.0613,  ...,  0.0461,  0.0447,  0.0665],\n",
      "         [ 0.0623,  0.0693,  0.0761,  ...,  0.0528,  0.0633,  0.0777]]])\n",
      "tensor([[[0.5156, 0.5095, 0.4997,  ..., 0.5133, 0.5230, 0.5213],\n",
      "         [0.5131, 0.5043, 0.4921,  ..., 0.5017, 0.5154, 0.5255],\n",
      "         [0.5119, 0.5047, 0.5039,  ..., 0.5077, 0.5135, 0.5189],\n",
      "         ...,\n",
      "         [0.5171, 0.5143, 0.5251,  ..., 0.5146, 0.5080, 0.5123],\n",
      "         [0.5182, 0.5164, 0.5216,  ..., 0.5059, 0.5066, 0.5169],\n",
      "         [0.5209, 0.5225, 0.5198,  ..., 0.5121, 0.5143, 0.5131]],\n",
      "\n",
      "        [[0.4690, 0.4660, 0.4648,  ..., 0.4751, 0.4741, 0.4717],\n",
      "         [0.4639, 0.4527, 0.4538,  ..., 0.4763, 0.4713, 0.4705],\n",
      "         [0.4585, 0.4509, 0.4519,  ..., 0.4666, 0.4633, 0.4651],\n",
      "         ...,\n",
      "         [0.4680, 0.4774, 0.4823,  ..., 0.4540, 0.4532, 0.4630],\n",
      "         [0.4725, 0.4769, 0.4808,  ..., 0.4608, 0.4624, 0.4672],\n",
      "         [0.4747, 0.4772, 0.4855,  ..., 0.4764, 0.4678, 0.4689]],\n",
      "\n",
      "        [[0.4565, 0.4559, 0.4517,  ..., 0.4578, 0.4616, 0.4585],\n",
      "         [0.4591, 0.4548, 0.4521,  ..., 0.4573, 0.4578, 0.4589],\n",
      "         [0.4598, 0.4612, 0.4527,  ..., 0.4669, 0.4688, 0.4653],\n",
      "         ...,\n",
      "         [0.4551, 0.4640, 0.4633,  ..., 0.4540, 0.4595, 0.4633],\n",
      "         [0.4545, 0.4546, 0.4579,  ..., 0.4537, 0.4533, 0.4593],\n",
      "         [0.4582, 0.4601, 0.4620,  ..., 0.4555, 0.4585, 0.4624]]])\n",
      "17.67138428182414\n"
     ]
    }
   ],
   "source": [
    "def generate_realdata():\n",
    "    batch_size = 10000\n",
    "    # Load CIFAR-100 dataset\n",
    "    transform=transforms.Compose([\n",
    "            transforms.RandomCrop(32, padding=4),\n",
    "            transforms.RandomHorizontalFlip(),\n",
    "            transforms.RandomRotation(15),\n",
    "            # transforms.Resize((299, 299)),\n",
    "            transforms.ToTensor(),\n",
    "            transforms.Normalize((0.5070751592371323, 0.48654887331495095, 0.4409178433670343,), (0.2682515741720801, 0.2573637364478126, 0.2770957707973042),)\n",
    "            ])\n",
    "    dataset = datasets.CIFAR100(root=\"../dataset\", train=True, transform=transform, download=True)\n",
    "    dataloader = DataLoader(dataset, batch_size=batch_size, shuffle=True)\n",
    "    real_images = iter(dataloader).next()[0]\n",
    "\n",
    "    print(f\"Real images: {real_images.shape}\")\n",
    "    print(real_images[0])\n",
    "\n",
    "    return real_images\n",
    "\n",
    "torch.save(generate_realdata(), 'result/real_images_32*32.pth')\n",
    "real_images = torch.load('result/real_images_32*32.pth')\n",
    "print(real_images.shape)\n",
    "print(real_images[0])\n",
    "tvls.save_image(real_images[0], 'result/real_images_32*32.png')\n",
    "invTrans = transforms.Compose([transforms.Normalize(mean = [ -0.5070751592371323/0.2682515741720801, -0.48654887331495095/0.2573637364478126, -0.4409178433670343/0.2770957707973042 ], \n",
    "                                                    std = [ 1/0.2682515741720801, 1/0.2573637364478126, 1/0.2770957707973042 ]), \n",
    "                            ])\n",
    "real_images = np.array([invTrans(real_images[i]).numpy() for i in range(real_images.shape[0])])\n",
    "real_images = torch.from_numpy(real_images)\n",
    "print(real_images[0])\n",
    "tvls.save_image(real_images[0], 'result/denormal_real_images_32*32.png')\n",
    "\n",
    "\n",
    "# load generated images\n",
    "generated_images = torch.load('result/FedAvg/inversion_image_66.95_epoch_15000_use_DenseGen_True/generate_image.pth')\n",
    "print(generated_images.shape)\n",
    "print(generated_images[0])\n",
    "\n",
    "generated_images = np.array([invTrans(generated_images[i]).numpy() for i in range(generated_images.shape[0])])\n",
    "generated_images = torch.from_numpy(generated_images)\n",
    "print(generated_images[0])\n",
    "\n",
    "tvls.save_image(generated_images[0], 'result/denormal_generated_images_32*32.png')\n",
    "tvls.save_image(torch.randn((3,32,32)), 'result/denormal_random_images_32*32.png')\n",
    "\n",
    "psnr = compute_PSNR(real_images.numpy(), generated_images.numpy())\n",
    "print(psnr)"
   ]
  },
  {
   "cell_type": "code",
   "execution_count": null,
   "metadata": {},
   "outputs": [],
   "source": []
  },
  {
   "cell_type": "code",
   "execution_count": 35,
   "metadata": {},
   "outputs": [
    {
     "ename": "RuntimeError",
     "evalue": "CUDA out of memory. Tried to allocate 2.00 MiB (GPU 0; 9.78 GiB total capacity; 8.14 GiB already allocated; 448.00 KiB free; 8.16 GiB reserved in total by PyTorch) If reserved memory is >> allocated memory try setting max_split_size_mb to avoid fragmentation.  See documentation for Memory Management and PYTORCH_CUDA_ALLOC_CONF",
     "output_type": "error",
     "traceback": [
      "\u001b[0;31m---------------------------------------------------------------------------\u001b[0m",
      "\u001b[0;31mRuntimeError\u001b[0m                              Traceback (most recent call last)",
      "Cell \u001b[0;32mIn[35], line 22\u001b[0m\n\u001b[1;32m     17\u001b[0m     \u001b[38;5;28mprint\u001b[39m(\u001b[38;5;124m'\u001b[39m\u001b[38;5;124mTest dataset: Average loss: \u001b[39m\u001b[38;5;132;01m{:.4f}\u001b[39;00m\u001b[38;5;124m, Accuracy: \u001b[39m\u001b[38;5;132;01m{}\u001b[39;00m\u001b[38;5;124m/\u001b[39m\u001b[38;5;132;01m{}\u001b[39;00m\u001b[38;5;124m (\u001b[39m\u001b[38;5;132;01m{:.2f}\u001b[39;00m\u001b[38;5;124m%\u001b[39m\u001b[38;5;124m)\u001b[39m\u001b[38;5;124m'\u001b[39m\u001b[38;5;241m.\u001b[39mformat(\n\u001b[1;32m     18\u001b[0m         test_loss \u001b[38;5;241m/\u001b[39m \u001b[38;5;28mlen\u001b[39m(test_loader), correct, \u001b[38;5;28mlen\u001b[39m(test_loader\u001b[38;5;241m.\u001b[39mdataset),\n\u001b[1;32m     19\u001b[0m         \u001b[38;5;241m100.\u001b[39m \u001b[38;5;241m*\u001b[39m correct \u001b[38;5;241m/\u001b[39m \u001b[38;5;28mlen\u001b[39m(test_loader\u001b[38;5;241m.\u001b[39mdataset)))\n\u001b[1;32m     20\u001b[0m     \u001b[38;5;28;01mreturn\u001b[39;00m \u001b[38;5;241m100.\u001b[39m \u001b[38;5;241m*\u001b[39m correct \u001b[38;5;241m/\u001b[39m \u001b[38;5;28mlen\u001b[39m(test_loader\u001b[38;5;241m.\u001b[39mdataset)\n\u001b[0;32m---> 22\u001b[0m model \u001b[38;5;241m=\u001b[39m \u001b[43mtorch\u001b[49m\u001b[38;5;241;43m.\u001b[39;49m\u001b[43mload\u001b[49m\u001b[43m(\u001b[49m\u001b[38;5;124;43m'\u001b[39;49m\u001b[38;5;124;43mresult_model/Central/epoch_1000_dir_0.5_model_test.pth\u001b[39;49m\u001b[38;5;124;43m'\u001b[39;49m\u001b[43m)\u001b[49m\n\u001b[1;32m     23\u001b[0m \u001b[38;5;66;03m# load CIFAR100 test dataset\u001b[39;00m\n\u001b[1;32m     24\u001b[0m test_transform \u001b[38;5;241m=\u001b[39m transforms\u001b[38;5;241m.\u001b[39mCompose([\n\u001b[1;32m     25\u001b[0m         transforms\u001b[38;5;241m.\u001b[39mToTensor(),\n\u001b[1;32m     26\u001b[0m         transforms\u001b[38;5;241m.\u001b[39mNormalize((\u001b[38;5;241m0.5070751592371323\u001b[39m, \u001b[38;5;241m0.48654887331495095\u001b[39m, \u001b[38;5;241m0.4409178433670343\u001b[39m,), (\u001b[38;5;241m0.2682515741720801\u001b[39m, \u001b[38;5;241m0.2573637364478126\u001b[39m, \u001b[38;5;241m0.2770957707973042\u001b[39m),)\n\u001b[1;32m     27\u001b[0m         ])\n",
      "File \u001b[0;32m~/anaconda3/envs/FL/lib/python3.10/site-packages/torch/serialization.py:712\u001b[0m, in \u001b[0;36mload\u001b[0;34m(f, map_location, pickle_module, **pickle_load_args)\u001b[0m\n\u001b[1;32m    710\u001b[0m             opened_file\u001b[39m.\u001b[39mseek(orig_position)\n\u001b[1;32m    711\u001b[0m             \u001b[39mreturn\u001b[39;00m torch\u001b[39m.\u001b[39mjit\u001b[39m.\u001b[39mload(opened_file)\n\u001b[0;32m--> 712\u001b[0m         \u001b[39mreturn\u001b[39;00m _load(opened_zipfile, map_location, pickle_module, \u001b[39m*\u001b[39;49m\u001b[39m*\u001b[39;49mpickle_load_args)\n\u001b[1;32m    713\u001b[0m \u001b[39mreturn\u001b[39;00m _legacy_load(opened_file, map_location, pickle_module, \u001b[39m*\u001b[39m\u001b[39m*\u001b[39mpickle_load_args)\n",
      "File \u001b[0;32m~/anaconda3/envs/FL/lib/python3.10/site-packages/torch/serialization.py:1049\u001b[0m, in \u001b[0;36m_load\u001b[0;34m(zip_file, map_location, pickle_module, pickle_file, **pickle_load_args)\u001b[0m\n\u001b[1;32m   1047\u001b[0m unpickler \u001b[39m=\u001b[39m UnpicklerWrapper(data_file, \u001b[39m*\u001b[39m\u001b[39m*\u001b[39mpickle_load_args)\n\u001b[1;32m   1048\u001b[0m unpickler\u001b[39m.\u001b[39mpersistent_load \u001b[39m=\u001b[39m persistent_load\n\u001b[0;32m-> 1049\u001b[0m result \u001b[39m=\u001b[39m unpickler\u001b[39m.\u001b[39;49mload()\n\u001b[1;32m   1051\u001b[0m torch\u001b[39m.\u001b[39m_utils\u001b[39m.\u001b[39m_validate_loaded_sparse_tensors()\n\u001b[1;32m   1053\u001b[0m \u001b[39mreturn\u001b[39;00m result\n",
      "File \u001b[0;32m~/anaconda3/envs/FL/lib/python3.10/site-packages/torch/serialization.py:1019\u001b[0m, in \u001b[0;36m_load.<locals>.persistent_load\u001b[0;34m(saved_id)\u001b[0m\n\u001b[1;32m   1017\u001b[0m \u001b[39mif\u001b[39;00m key \u001b[39mnot\u001b[39;00m \u001b[39min\u001b[39;00m loaded_storages:\n\u001b[1;32m   1018\u001b[0m     nbytes \u001b[39m=\u001b[39m numel \u001b[39m*\u001b[39m torch\u001b[39m.\u001b[39m_utils\u001b[39m.\u001b[39m_element_size(dtype)\n\u001b[0;32m-> 1019\u001b[0m     load_tensor(dtype, nbytes, key, _maybe_decode_ascii(location))\n\u001b[1;32m   1021\u001b[0m \u001b[39mreturn\u001b[39;00m loaded_storages[key]\n",
      "File \u001b[0;32m~/anaconda3/envs/FL/lib/python3.10/site-packages/torch/serialization.py:1001\u001b[0m, in \u001b[0;36m_load.<locals>.load_tensor\u001b[0;34m(dtype, numel, key, location)\u001b[0m\n\u001b[1;32m    997\u001b[0m storage \u001b[39m=\u001b[39m zip_file\u001b[39m.\u001b[39mget_storage_from_record(name, numel, torch\u001b[39m.\u001b[39m_UntypedStorage)\u001b[39m.\u001b[39mstorage()\u001b[39m.\u001b[39m_untyped()\n\u001b[1;32m    998\u001b[0m \u001b[39m# TODO: Once we decide to break serialization FC, we can\u001b[39;00m\n\u001b[1;32m    999\u001b[0m \u001b[39m# stop wrapping with _TypedStorage\u001b[39;00m\n\u001b[1;32m   1000\u001b[0m loaded_storages[key] \u001b[39m=\u001b[39m torch\u001b[39m.\u001b[39mstorage\u001b[39m.\u001b[39m_TypedStorage(\n\u001b[0;32m-> 1001\u001b[0m     wrap_storage\u001b[39m=\u001b[39mrestore_location(storage, location),\n\u001b[1;32m   1002\u001b[0m     dtype\u001b[39m=\u001b[39mdtype)\n",
      "File \u001b[0;32m~/anaconda3/envs/FL/lib/python3.10/site-packages/torch/serialization.py:175\u001b[0m, in \u001b[0;36mdefault_restore_location\u001b[0;34m(storage, location)\u001b[0m\n\u001b[1;32m    173\u001b[0m \u001b[39mdef\u001b[39;00m \u001b[39mdefault_restore_location\u001b[39m(storage, location):\n\u001b[1;32m    174\u001b[0m     \u001b[39mfor\u001b[39;00m _, _, fn \u001b[39min\u001b[39;00m _package_registry:\n\u001b[0;32m--> 175\u001b[0m         result \u001b[39m=\u001b[39m fn(storage, location)\n\u001b[1;32m    176\u001b[0m         \u001b[39mif\u001b[39;00m result \u001b[39mis\u001b[39;00m \u001b[39mnot\u001b[39;00m \u001b[39mNone\u001b[39;00m:\n\u001b[1;32m    177\u001b[0m             \u001b[39mreturn\u001b[39;00m result\n",
      "File \u001b[0;32m~/anaconda3/envs/FL/lib/python3.10/site-packages/torch/serialization.py:157\u001b[0m, in \u001b[0;36m_cuda_deserialize\u001b[0;34m(obj, location)\u001b[0m\n\u001b[1;32m    155\u001b[0m         \u001b[39mreturn\u001b[39;00m torch\u001b[39m.\u001b[39m_UntypedStorage(obj\u001b[39m.\u001b[39mnbytes(), device\u001b[39m=\u001b[39mtorch\u001b[39m.\u001b[39mdevice(location))\n\u001b[1;32m    156\u001b[0m \u001b[39melse\u001b[39;00m:\n\u001b[0;32m--> 157\u001b[0m     \u001b[39mreturn\u001b[39;00m obj\u001b[39m.\u001b[39;49mcuda(device)\n",
      "File \u001b[0;32m~/anaconda3/envs/FL/lib/python3.10/site-packages/torch/_utils.py:78\u001b[0m, in \u001b[0;36m_cuda\u001b[0;34m(self, device, non_blocking, **kwargs)\u001b[0m\n\u001b[1;32m     76\u001b[0m     \u001b[39mreturn\u001b[39;00m new_type(indices, values, \u001b[39mself\u001b[39m\u001b[39m.\u001b[39msize())\n\u001b[1;32m     77\u001b[0m \u001b[39melse\u001b[39;00m:\n\u001b[0;32m---> 78\u001b[0m     \u001b[39mreturn\u001b[39;00m torch\u001b[39m.\u001b[39;49m_UntypedStorage(\u001b[39mself\u001b[39;49m\u001b[39m.\u001b[39;49msize(), device\u001b[39m=\u001b[39;49mtorch\u001b[39m.\u001b[39;49mdevice(\u001b[39m'\u001b[39;49m\u001b[39mcuda\u001b[39;49m\u001b[39m'\u001b[39;49m))\u001b[39m.\u001b[39mcopy_(\u001b[39mself\u001b[39m, non_blocking)\n",
      "\u001b[0;31mRuntimeError\u001b[0m: CUDA out of memory. Tried to allocate 2.00 MiB (GPU 0; 9.78 GiB total capacity; 8.14 GiB already allocated; 448.00 KiB free; 8.16 GiB reserved in total by PyTorch) If reserved memory is >> allocated memory try setting max_split_size_mb to avoid fragmentation.  See documentation for Memory Management and PYTORCH_CUDA_ALLOC_CONF"
     ]
    }
   ],
   "source": [
    "def test(model, test_loader, device):\n",
    "    model.eval()\n",
    "    test_loss = 0\n",
    "    correct = 0\n",
    "    total = 0\n",
    "    with torch.no_grad():\n",
    "        for batch_idx, data in enumerate(test_loader):\n",
    "            inputs = data[0].to(device)\n",
    "            targets = data[1].to(device)\n",
    "            _, outputs = model(inputs)\n",
    "            loss = F.cross_entropy(outputs, targets)\n",
    "            test_loss += loss.item()\n",
    "            _, predicted = outputs.max(1)\n",
    "            total += targets.size(0)\n",
    "            correct += predicted.eq(targets).sum().item()\n",
    "\n",
    "    print('Test dataset: Average loss: {:.4f}, Accuracy: {}/{} ({:.2f}%)'.format(\n",
    "        test_loss / len(test_loader), correct, len(test_loader.dataset),\n",
    "        100. * correct / len(test_loader.dataset)))\n",
    "    return 100. * correct / len(test_loader.dataset)\n",
    "\n",
    "model = torch.load('result_model/Central/epoch_1000_dir_0.5_model_test.pth')\n",
    "# load CIFAR100 test dataset\n",
    "test_transform = transforms.Compose([\n",
    "        transforms.ToTensor(),\n",
    "        transforms.Normalize((0.5070751592371323, 0.48654887331495095, 0.4409178433670343,), (0.2682515741720801, 0.2573637364478126, 0.2770957707973042),)\n",
    "        ])\n",
    "test_loader = DataLoader(datasets.CIFAR100(root=\"../dataset\", train=False, transform=test_transform, download=True), batch_size=10000, shuffle=False)\n",
    "print(test_loader.dataset.data.shape)\n",
    "#select device 1\n",
    "# device = torch.device(\"cuda:1\" if torch.cuda.is_available() else \"cpu\")\n",
    "# test(model, test_loader, device)"
   ]
  },
  {
   "cell_type": "code",
   "execution_count": 37,
   "metadata": {},
   "outputs": [
    {
     "ename": "RuntimeError",
     "evalue": "CUDA out of memory. Tried to allocate 20.00 MiB (GPU 0; 9.78 GiB total capacity; 8.14 GiB already allocated; 448.00 KiB free; 8.16 GiB reserved in total by PyTorch) If reserved memory is >> allocated memory try setting max_split_size_mb to avoid fragmentation.  See documentation for Memory Management and PYTORCH_CUDA_ALLOC_CONF",
     "output_type": "error",
     "traceback": [
      "\u001b[0;31m---------------------------------------------------------------------------\u001b[0m",
      "\u001b[0;31mRuntimeError\u001b[0m                              Traceback (most recent call last)",
      "Cell \u001b[0;32mIn[37], line 19\u001b[0m\n\u001b[1;32m     17\u001b[0m real_image \u001b[38;5;241m=\u001b[39m torch\u001b[38;5;241m.\u001b[39mload(\u001b[38;5;124m'\u001b[39m\u001b[38;5;124mresult/real_images.pth\u001b[39m\u001b[38;5;124m'\u001b[39m)\n\u001b[1;32m     18\u001b[0m labels \u001b[38;5;241m=\u001b[39m torch\u001b[38;5;241m.\u001b[39mLongTensor(\u001b[38;5;241m10000\u001b[39m)\u001b[38;5;241m.\u001b[39mrandom_(\u001b[38;5;241m0\u001b[39m, \u001b[38;5;241m100\u001b[39m)\u001b[38;5;241m.\u001b[39mcuda()\n\u001b[0;32m---> 19\u001b[0m gt_labels \u001b[38;5;241m=\u001b[39m \u001b[43mtorch\u001b[49m\u001b[38;5;241;43m.\u001b[39;49m\u001b[43mzeros\u001b[49m\u001b[43m(\u001b[49m\u001b[38;5;241;43m10000\u001b[39;49m\u001b[43m,\u001b[49m\u001b[43m \u001b[49m\u001b[38;5;241;43m100\u001b[39;49m\u001b[43m)\u001b[49m\u001b[38;5;241;43m.\u001b[39;49m\u001b[43mcuda\u001b[49m\u001b[43m(\u001b[49m\u001b[43m)\u001b[49m\n\u001b[1;32m     20\u001b[0m \u001b[38;5;28;01mfor\u001b[39;00m i \u001b[38;5;129;01min\u001b[39;00m \u001b[38;5;28mrange\u001b[39m(\u001b[38;5;241m10000\u001b[39m):\n\u001b[1;32m     21\u001b[0m     gt_labels[i][labels[i]] \u001b[38;5;241m=\u001b[39m \u001b[38;5;241m1\u001b[39m       \u001b[38;5;66;03m# generate one-hot labels\u001b[39;00m\n",
      "\u001b[0;31mRuntimeError\u001b[0m: CUDA out of memory. Tried to allocate 20.00 MiB (GPU 0; 9.78 GiB total capacity; 8.14 GiB already allocated; 448.00 KiB free; 8.16 GiB reserved in total by PyTorch) If reserved memory is >> allocated memory try setting max_split_size_mb to avoid fragmentation.  See documentation for Memory Management and PYTORCH_CUDA_ALLOC_CONF"
     ]
    }
   ],
   "source": [
    "class GeneratedDataset(Dataset):\n",
    "    def __init__(self, data, label, transform=None):\n",
    "        self.data = data\n",
    "        self.label = label\n",
    "        self.transform = transform\n",
    "\n",
    "    def __len__(self):\n",
    "        return len(self.data)\n",
    "\n",
    "    def __getitem__(self, idx):\n",
    "        image = self.data[idx]\n",
    "        label = self.label[idx]\n",
    "        if self.transform:\n",
    "            image = self.transform(image)\n",
    "\n",
    "        return image, label\n",
    "real_image = torch.load('result/real_images.pth')\n",
    "labels = torch.LongTensor(10000).random_(0, 100).cuda()\n",
    "gt_labels = torch.zeros(10000, 100).cuda()\n",
    "for i in range(10000):\n",
    "    gt_labels[i][labels[i]] = 1       # generate one-hot labels\n",
    "dataset = GeneratedDataset(real_image, gt_labels)\n",
    "dataloader = DataLoader(dataset, batch_size=100, shuffle=False)\n",
    "print(dataloader.dataset[0][0].shape)\n",
    "# evaluator = torch.load('result_model/Central/epoch_1000_dir_0.5_model_test.pth')\n",
    "# test(evaluator, dataloader, device)"
   ]
  },
  {
   "cell_type": "code",
   "execution_count": 2,
   "metadata": {},
   "outputs": [
    {
     "data": {
      "image/png": "[encoded data removed]",
      "text/plain": [
       "<Figure size 640x480 with 1 Axes>"
      ]
     },
     "metadata": {},
     "output_type": "display_data"
    }
   ],
   "source": [
    "plt.figure()\n",
    "plt.plot(np.arange(500, (10000), 500), np.arange(500, (10000), 500))\n",
    "plt.xlabel('epoch')\n",
    "plt.ylabel('fid_score')\n",
    "plt.show()"
   ]
  },
  {
   "cell_type": "code",
   "execution_count": 4,
   "metadata": {},
   "outputs": [
    {
     "data": {
      "text/plain": [
       "array([  500,  1000,  1500,  2000,  2500,  3000,  3500,  4000,  4500,\n",
       "        5000,  5500,  6000,  6500,  7000,  7500,  8000,  8500,  9000,\n",
       "        9500, 10000])"
      ]
     },
     "execution_count": 4,
     "metadata": {},
     "output_type": "execute_result"
    }
   ],
   "source": [
    "np.arange(500, (10001), 500)"
   ]
  },
  {
   "cell_type": "code",
   "execution_count": null,
   "metadata": {},
   "outputs": [],
   "source": []
  }
 ],
 "metadata": {
  "kernelspec": {
   "display_name": "Python 3.10.4 ('FL': conda)",
   "language": "python",
   "name": "python3"
  },
  "language_info": {
   "codemirror_mode": {
    "name": "ipython",
    "version": 3
   },
   "file_extension": ".py",
   "mimetype": "text/x-python",
   "name": "python",
   "nbconvert_exporter": "python",
   "pygments_lexer": "ipython3",
   "version": "3.10.4"
  },
  "orig_nbformat": 4,
  "vscode": {
   "interpreter": {
    "hash": "e58bea275dc02c3ddf05ce293d9a76ef84dc8b4c7eec055dbd0a07f52cb04438"
   }
  }
 },
 "nbformat": 4,
 "nbformat_minor": 2
}
